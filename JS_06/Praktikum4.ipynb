{
 "cells": [
  {
   "cell_type": "markdown",
   "id": "d535cf34",
   "metadata": {},
   "source": [
    "# JS06 - ANN (APPROXIMATE NEAREST NEIGHBORS)"
   ]
  },
  {
   "cell_type": "markdown",
   "id": "54b4c295",
   "metadata": {},
   "source": [
    "## Praktikum 4"
   ]
  },
  {
   "cell_type": "markdown",
   "id": "cbe38cd6",
   "metadata": {},
   "source": [
    "Perbedaan ketiga model"
   ]
  },
  {
   "cell_type": "code",
   "execution_count": 1,
   "id": "8077154f",
   "metadata": {},
   "outputs": [],
   "source": [
    "import numpy as np\n",
    "import time\n",
    "from annoy import AnnoyIndex\n",
    "import faiss\n",
    "import hnswlib"
   ]
  },
  {
   "cell_type": "code",
   "execution_count": 2,
   "id": "592d06b3",
   "metadata": {},
   "outputs": [],
   "source": [
    "# ===============================\n",
    "# 1. Buat dataset 1 juta data 5D\n",
    "# ===============================\n",
    "n_data = 1_000_000   # bisa coba 100_000 dulu jika RAM terbatas\n",
    "dim = 5\n",
    "X = np.random.random((n_data, dim)).astype(np.float32)\n",
    "\n",
    "# Query point\n",
    "query = np.random.random((1, dim)).astype(np.float32)\n",
    "k = 10\n"
   ]
  },
  {
   "cell_type": "code",
   "execution_count": null,
   "id": "d6d5f4a8",
   "metadata": {},
   "outputs": [
    {
     "name": "stdout",
     "output_type": "stream",
     "text": [
      "=== Annoy ===\n",
      "Build time: 11.172114133834839 detik\n",
      "Query time: 0.003032207489013672 detik\n",
      "Neighbors: [225335, 579224, 595788, 839797, 856343] ...\n",
      "\n",
      "=== FAISS (IndexFlatL2) ===\n",
      "Build time: 0.10020852088928223 detik\n",
      "Query time: 0.04946756362915039 detik\n",
      "Neighbors: [225335 579224 595788 839797 856343] ...\n",
      "\n",
      "=== HNSW (hnswlib) ===\n",
      "Build time: 64.21569991111755 detik\n",
      "Query time: 0.0035521984100341797 detik\n",
      "Neighbors: [225335 579224 595788 839797 856343] ...\n"
     ]
    }
   ],
   "source": [
    "# ===============================\n",
    "# 2. Annoy\n",
    "# ===============================\n",
    "print(\"=== Annoy ===\")\n",
    "ann_index = AnnoyIndex(dim, 'euclidean')\n",
    "\n",
    "start = time.time()\n",
    "for i in range(n_data):\n",
    "    ann_index.add_item(i, X[i])\n",
    "ann_index.build(10)  # 10 trees\n",
    "build_time = time.time() - start\n",
    "\n",
    "start = time.time()\n",
    "neighbors = ann_index.get_nns_by_vector(query[0], k, include_distances=True)\n",
    "query_time = time.time() - start\n",
    "\n",
    "print(\"Build time:\", build_time, \"detik\")\n",
    "print(\"Query time:\", query_time, \"detik\")\n",
    "print(\"Neighbors:\", neighbors[0][:5], \"...\")\n",
    "\n",
    "# ===============================\n",
    "# 3. FAISS (Flat Index)\n",
    "# ===============================\n",
    "print(\"\\n=== FAISS (IndexFlatL2) ===\")\n",
    "faiss_index = faiss.IndexFlatL2(dim)\n",
    "\n",
    "start = time.time()\n",
    "faiss_index.add(X)\n",
    "build_time = time.time() - start\n",
    "\n",
    "start = time.time()\n",
    "distances, indices = faiss_index.search(query, k)\n",
    "query_time = time.time() - start\n",
    "\n",
    "print(\"Build time:\", build_time, \"detik\")\n",
    "print(\"Query time:\", query_time, \"detik\")\n",
    "print(\"Neighbors:\", indices[0][:5], \"...\")\n",
    "\n",
    "# ===============================\n",
    "# 4. HNSW (hnswlib)\n",
    "# ===============================\n",
    "print(\"\\n=== HNSW (hnswlib) ===\")\n",
    "hnsw_index = hnswlib.Index(space='l2', dim=dim)\n",
    "\n",
    "start = time.time()\n",
    "hnsw_index.init_index(max_elements=n_data, ef_construction=200, M=16)\n",
    "hnsw_index.add_items(X)\n",
    "build_time = time.time() - start\n",
    "\n",
    "hnsw_index.set_ef(50)\n",
    "\n",
    "start = time.time()\n",
    "labels, distances = hnsw_index.knn_query(query, k=k)\n",
    "query_time = time.time() - start\n",
    "\n",
    "print(\"Build time:\", build_time, \"detik\")\n",
    "print(\"Query time:\", query_time, \"detik\")\n",
    "print(\"Neighbors:\", labels[0][:5], \"...\")"
   ]
  },
  {
   "cell_type": "code",
   "execution_count": 4,
   "id": "068e1dc8",
   "metadata": {},
   "outputs": [
    {
     "name": "stdout",
     "output_type": "stream",
     "text": [
      "=== Annoy ===\n",
      "Build time: 12.624775171279907 detik\n",
      "Query time: 0.0003116130828857422 detik\n",
      "Neighbors: [25515, 80902, 930082, 211903, 422661] ...\n",
      "\n",
      "=== FAISS (IndexFlatL2) ===\n",
      "Build time: 0.014153242111206055 detik\n",
      "Query time: 0.009865283966064453 detik\n",
      "Neighbors: [ 25515  80902 930082 211903 422661] ...\n",
      "\n",
      "=== HNSW (hnswlib) ===\n",
      "Build time: 45.22749352455139 detik\n",
      "Query time: 0.009543657302856445 detik\n",
      "Neighbors: [ 25515  80902 930082 211903 422661] ...\n"
     ]
    }
   ],
   "source": [
    "# ===============================\n",
    "# 2. Annoy\n",
    "# ===============================\n",
    "print(\"=== Annoy ===\")\n",
    "ann_index = AnnoyIndex(dim, 'angular')\n",
    "\n",
    "start = time.time()\n",
    "for i in range(n_data):\n",
    "    ann_index.add_item(i, X[i])\n",
    "ann_index.build(10)  # 10 trees\n",
    "build_time = time.time() - start\n",
    "\n",
    "start = time.time()\n",
    "neighbors = ann_index.get_nns_by_vector(query[0], k, include_distances=True)\n",
    "query_time = time.time() - start\n",
    "\n",
    "print(\"Build time:\", build_time, \"detik\")\n",
    "print(\"Query time:\", query_time, \"detik\")\n",
    "print(\"Neighbors:\", neighbors[0][:5], \"...\")\n",
    "\n",
    "# ===============================\n",
    "# 3. FAISS (Flat Index)\n",
    "# ===============================\n",
    "print(\"\\n=== FAISS (IndexFlatL2) ===\")\n",
    "# Normalisasi data\n",
    "# dengan Inner product\n",
    "X_norm = X / np.linalg.norm(X, axis=1, keepdims=True)\n",
    "query_norm = query / np.linalg.norm(query, axis=1, keepdims=True)\n",
    "\n",
    "faiss_index = faiss.IndexFlatIP(dim)\n",
    "\n",
    "start = time.time()\n",
    "faiss_index.add(X_norm)\n",
    "build_time = time.time() - start\n",
    "\n",
    "start = time.time()\n",
    "distances, indices = faiss_index.search(query_norm, k)\n",
    "query_time = time.time() - start\n",
    "\n",
    "print(\"Build time:\", build_time, \"detik\")\n",
    "print(\"Query time:\", query_time, \"detik\")\n",
    "print(\"Neighbors:\", indices[0][:5], \"...\")\n",
    "\n",
    "# ===============================\n",
    "# 4. HNSW (hnswlib)\n",
    "# ===============================\n",
    "# dengan cosine\n",
    "print(\"\\n=== HNSW (hnswlib) ===\")\n",
    "hnsw_index = hnswlib.Index(space='cosine', dim=dim)\n",
    "\n",
    "start = time.time()\n",
    "hnsw_index.init_index(max_elements=n_data, ef_construction=200, M=16)\n",
    "hnsw_index.add_items(X)\n",
    "build_time = time.time() - start\n",
    "\n",
    "hnsw_index.set_ef(50)\n",
    "\n",
    "start = time.time()\n",
    "labels, distances = hnsw_index.knn_query(query, k=k)\n",
    "query_time = time.time() - start\n",
    "\n",
    "print(\"Build time:\", build_time, \"detik\")\n",
    "print(\"Query time:\", query_time, \"detik\")\n",
    "print(\"Neighbors:\", labels[0][:5], \"...\")"
   ]
  },
  {
   "cell_type": "code",
   "execution_count": 6,
   "id": "df8eea53",
   "metadata": {},
   "outputs": [
    {
     "name": "stdout",
     "output_type": "stream",
     "text": [
      "Model        Metric   Parameter Jumlah Data              Waktu (Build, Query)\n",
      "Annoy     euclidean    10 trees   1,000,000 Build: 11.172114, Query: 0.003032\n",
      "Annoy       angular    10 trees   1,000,000 Build: 12.624775, Query: 0.000311\n",
      "FAISS            L2           -   1,000,000 Build: 0.1002085, Query: 0.049467\n",
      "FAISS Inner Product           -   1,000,000 Build: 0.0141532, Query: 0.009865\n",
      " HNSW            l2 M=16, ef=50   1,000,000  Build: 64.21569, Query: 0.003552\n",
      " HNSW        cosine M=16, ef=50   1,000,000  Build: 45.22749, Query: 0.009543\n"
     ]
    }
   ],
   "source": [
    "import pandas as pd\n",
    "\n",
    "data = [\n",
    "    [\"Annoy\", \"euclidean\", \"10 trees\", \"1,000,000\", \"Build: 11.172114, Query: 0.003032\"],\n",
    "    [\"Annoy\", \"angular\", \"10 trees\", \"1,000,000\", \"Build: 12.624775, Query: 0.000311\"],\n",
    "    [\"FAISS\", \"L2\", \"-\", \"1,000,000\", \"Build: 0.1002085, Query: 0.049467\"],\n",
    "    [\"FAISS\", \"Inner Product\", \"-\", \"1,000,000\", \"Build: 0.0141532, Query: 0.009865\"],\n",
    "    [\"HNSW\", \"l2\", \"M=16, ef=50\", \"1,000,000\", \"Build: 64.21569, Query: 0.003552\"],\n",
    "    [\"HNSW\", \"cosine\", \"M=16, ef=50\", \"1,000,000\", \"Build: 45.22749, Query: 0.009543\"],\n",
    "]\n",
    "\n",
    "df = pd.DataFrame(data, columns=[\"Model\", \"Metric\", \"Parameter\", \"Jumlah Data\", \"Waktu (Build, Query)\"])\n",
    "print(df.to_string(index=False))\n"
   ]
  }
 ],
 "metadata": {
  "kernelspec": {
   "display_name": "base",
   "language": "python",
   "name": "python3"
  },
  "language_info": {
   "codemirror_mode": {
    "name": "ipython",
    "version": 3
   },
   "file_extension": ".py",
   "mimetype": "text/x-python",
   "name": "python",
   "nbconvert_exporter": "python",
   "pygments_lexer": "ipython3",
   "version": "3.13.5"
  }
 },
 "nbformat": 4,
 "nbformat_minor": 5
}
