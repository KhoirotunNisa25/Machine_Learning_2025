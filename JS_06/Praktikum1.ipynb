{
 "cells": [
  {
   "cell_type": "markdown",
   "id": "1bf3f202",
   "metadata": {},
   "source": [
    "# JS06: ANN (APPROXIMATE NEAREST NEIGHBORS)"
   ]
  },
  {
   "cell_type": "markdown",
   "id": "95ff4de4",
   "metadata": {},
   "source": [
    "## Praktikum 1: ANNOY"
   ]
  },
  {
   "cell_type": "code",
   "execution_count": 2,
   "id": "b770554c",
   "metadata": {},
   "outputs": [
    {
     "name": "stdout",
     "output_type": "stream",
     "text": [
      "Requirement already satisfied: annoy in c:\\users\\user\\anaconda3\\lib\\site-packages (1.17.3)\n"
     ]
    }
   ],
   "source": [
    "# Install annoy\n",
    "!pip install annoy"
   ]
  },
  {
   "cell_type": "code",
   "execution_count": 20,
   "id": "b20372ae",
   "metadata": {},
   "outputs": [
    {
     "name": "stdout",
     "output_type": "stream",
     "text": [
      "Exact NN index: [64040 64186 88792]\n",
      "Exact NN jarak: [0.         0.15797867 0.25332711]\n",
      "Waktu Exact: 9.8104 ms\n",
      "\n",
      "Annoy NN index: [7452, 64040, 72632]\n",
      "Annoy NN jarak: [np.float64(24.316939817614458), np.float64(0.0), np.float64(58.54488164032053)]\n",
      "Waktu Annoy: 0.1347 ms\n"
     ]
    },
    {
     "data": {
      "image/png": "[encoded data removed]",
      "text/plain": [
       "<Figure size 600x600 with 1 Axes>"
      ]
     },
     "metadata": {},
     "output_type": "display_data"
    }
   ],
   "source": [
    "import numpy as np\n",
    "import matplotlib.pyplot as plt\n",
    "import time\n",
    "\n",
    "from annoy import AnnoyIndex\n",
    "\n",
    "# 1. Dataset 2D\n",
    "np.random.seed(42)\n",
    "n_points = 100_000\n",
    "X = np.random.rand(n_points, 2) * 100  # titik random dalam ruang 100x100\n",
    "\n",
    "# Query point (ambil salah satu titik random)\n",
    "query = X[np.random.randint(0, n_points)]\n",
    "\n",
    "# 2. Exact NN (brute force)\n",
    "start = time.time()\n",
    "distances = np.linalg.norm(X - query, axis=1)\n",
    "idx_exact = np.argsort(distances)[:3]  # ambil 3 terdekat\n",
    "time_exact = time.time() - start\n",
    "\n",
    "print(\"Exact NN index:\", idx_exact)\n",
    "print(\"Exact NN jarak:\", distances[idx_exact])\n",
    "print(\"Waktu Exact:\", round(time_exact*1000, 4), \"ms\")\n",
    "\n",
    "# 3. Annoy NN (3 tree)\n",
    "f = 2  # dimensi\n",
    "t = AnnoyIndex(f, 'angular')\n",
    "for i, vec in enumerate(X):\n",
    "    t.add_item(i, vec)\n",
    "\n",
    "t.build(3)  # 3 trees\n",
    "\n",
    "start = time.time()\n",
    "idx_ann = t.get_nns_by_vector(query, 3)  # cari 3 NN\n",
    "time_ann = time.time() - start\n",
    "\n",
    "print(\"\\nAnnoy NN index:\", idx_ann)\n",
    "print(\"Annoy NN jarak:\", [np.linalg.norm(X[i]-query) for i in idx_ann])\n",
    "print(\"Waktu Annoy:\", round(time_ann*1000, 4), \"ms\")\n",
    "\n",
    "# 4. Visualisasi hasil\n",
    "plt.figure(figsize=(6,6))\n",
    "plt.scatter(X[:,0], X[:,1], c=\"lightgray\", s=20, label=\"Dataset\")\n",
    "plt.scatter(query[0], query[1], c=\"red\", marker=\"x\", s=100, label=\"Query\")\n",
    "\n",
    "# Exact NN ditandai biru\n",
    "plt.scatter(X[idx_exact,0], X[idx_exact,1], c=\"blue\", s=80, label=\"Exact NN\")\n",
    "\n",
    "# Annoy NN ditandai hijau\n",
    "plt.scatter(X[idx_ann,0], X[idx_ann,1], c=\"green\", s=50, marker=\"s\", label=\"Annoy NN\")\n",
    "\n",
    "plt.legend()\n",
    "plt.title(\"Exact NN vs Annoy NN (3 trees)\")\n",
    "plt.show()"
   ]
  },
  {
   "cell_type": "markdown",
   "id": "1fce7f54",
   "metadata": {},
   "source": [
    "Lakukan percobaan"
   ]
  },
  {
   "cell_type": "code",
   "execution_count": 23,
   "id": "913b3fb0",
   "metadata": {},
   "outputs": [
    {
     "name": "stdout",
     "output_type": "stream",
     "text": [
      "Distance Metrics  Tree  Jumlah data            Hasil Index terdekat ENN vs ANN Waktu komputasi Vs (ENN, ANN)\n",
      "       Euclidean     3         1000             [219 898 593], [219, 898, 593]                3.7985 , 0.258\n",
      "       Euclidean     8         1000             [219 898 593], [219, 898, 593]               1.7574 , 0.2415\n",
      "       Euclidean     3       100000 [64040 64186 88792], [64040, 64186, 88792]              14.3383 , 0.4792\n",
      "         Angular     3         1000             [219 898 593], [219, 429, 962]                1.8897, 0.2887\n",
      "         Angular     8         1000             [219 898 593], [219, 429, 540]                1.6811, 1.3344\n",
      "         Angular     3       100000  [64040 64186 88792], [7452, 64040, 72632]                9.8104, 0.1347\n"
     ]
    }
   ],
   "source": [
    "import pandas as pd\n",
    "\n",
    "# Data percobaan\n",
    "data = [\n",
    "    [\"Euclidean\", 3, 1000, \"[219 898 593], [219, 898, 593]\", \"3.7985 , 0.258\"],\n",
    "    [\"Euclidean\", 8, 1000, \"[219 898 593], [219, 898, 593]\", \"1.7574 , 0.2415\"],\n",
    "    [\"Euclidean\", 3, 100000, \"[64040 64186 88792], [64040, 64186, 88792]\", \"14.3383 , 0.4792\"],\n",
    "    [\"Angular\", 3, 1000, \"[219 898 593], [219, 429, 962]\", \"1.8897, 0.2887\"],\n",
    "    [\"Angular\", 8, 1000, \"[219 898 593], [219, 429, 540]\", \"1.6811, 1.3344\"],\n",
    "    [\"Angular\", 3, 100000, \"[64040 64186 88792], [7452, 64040, 72632]\", \"9.8104, 0.1347\"],\n",
    "]\n",
    "\n",
    "# Buat DataFrame pandas\n",
    "df = pd.DataFrame(data, columns=[\n",
    "    \"Distance Metrics\", \"Tree\", \"Jumlah data\",\n",
    "    \"Hasil Index terdekat ENN vs ANN\", \"Waktu komputasi Vs (ENN, ANN)\"\n",
    "])\n",
    "\n",
    "# Tampilkan tabel\n",
    "print(df.to_string(index=False))\n"
   ]
  },
  {
   "cell_type": "markdown",
   "id": "c0b6e93f",
   "metadata": {},
   "source": [
    "Pada code dan tabel berikut percobaan simulasi membuat track rekomendasi spotify dilakukan dengan 20 fitur dan berisi 1 juta lagu (fyi, spotify memiliki 150 jutaan track), isikan hasilnya.\n",
    "\n",
    "--> Saya hanya menggunakan 500.000 tracks"
   ]
  },
  {
   "cell_type": "code",
   "execution_count": 26,
   "id": "719a02eb",
   "metadata": {},
   "outputs": [
    {
     "name": "stdout",
     "output_type": "stream",
     "text": [
      "Exact NN result: [4721683 4679021 2082649 4234882 1478025]\n",
      "Exact NN time: 1.07 seconds\n",
      "Annoy result: [3960884, 997677, 1241086, 1542494, 2539294]\n",
      "Annoy time: 0.008 seconds\n"
     ]
    }
   ],
   "source": [
    "from sklearn.metrics.pairwise import euclidean_distances\n",
    "\n",
    "# ---- 1. Buat dataset mirip Spotify ----\n",
    "n_tracks = 5000_000   # 500 rb track\n",
    "n_features = 20        # contoh: danceability, energy, tempo, dll.\n",
    "\n",
    "# dataset besar (random untuk simulasi)\n",
    "X = np.random.rand(n_tracks, n_features).astype(np.float32)\n",
    "\n",
    "# query track (misalnya lagu baru)\n",
    "query = np.random.rand(1, n_features).astype(np.float32)\n",
    "\n",
    "# ---- 2. Exact NN (brute force) ----\n",
    "start = time.time()\n",
    "distances = euclidean_distances(query, X)[0]   # hitung semua jarak\n",
    "exact_idx = np.argsort(distances)[:5]          # ambil 5 terdekat\n",
    "exact_time = time.time() - start\n",
    "\n",
    "print(\"Exact NN result:\", exact_idx)\n",
    "print(\"Exact NN time:\", round(exact_time, 3), \"seconds\")\n",
    "\n",
    "# ---- 3. Approx NN pakai Annoy ----\n",
    "f = n_features\n",
    "annoy_index = AnnoyIndex(f, 'angular')\n",
    "n_trees = 3\n",
    "\n",
    "# build index\n",
    "for i in range(n_tracks):\n",
    "    annoy_index.add_item(i, X[i])\n",
    "annoy_index.build(n_trees)\n",
    "\n",
    "start = time.time()\n",
    "annoy_idx = annoy_index.get_nns_by_vector(query[0], 5)  # ambil 5 lagu yang mirip\n",
    "annoy_time = time.time() - start\n",
    "\n",
    "print(\"Annoy result:\", annoy_idx)\n",
    "print(\"Annoy time:\", round(annoy_time, 3), \"seconds\")\n"
   ]
  },
  {
   "cell_type": "code",
   "execution_count": 27,
   "id": "b1fe103c",
   "metadata": {},
   "outputs": [
    {
     "name": "stdout",
     "output_type": "stream",
     "text": [
      "Distance Metrics  Tree  Jumlah data                                                         Hasil Index terdekat ENN vs ANN Waktu komputasi Vs (ENN, ANN)\n",
      "       Euclidean     3      5000000    [4829004 2431159 2473476 3941481 2882127], [4829004 2431159 2473476 3941481 2882127]                 1.226 , 0.006\n",
      "         Angular     8      5000000 [4721683 4679021 2082649 4234882 1478025], [3960884, 997677, 1241086, 1542494, 2539294]                  1.07 , 0.008\n"
     ]
    }
   ],
   "source": [
    "# Data percobaan\n",
    "data = [\n",
    "    [\"Euclidean\", 3, 5000000, \"[4829004 2431159 2473476 3941481 2882127], [4829004 2431159 2473476 3941481 2882127]\", \"1.226 , 0.006\"],\n",
    "    [\"Angular\", 8, 5000000, \"[4721683 4679021 2082649 4234882 1478025], [3960884, 997677, 1241086, 1542494, 2539294]\", \"1.07 , 0.008\"],\n",
    "]\n",
    "\n",
    "# Buat DataFrame pandas\n",
    "df = pd.DataFrame(data, columns=[\n",
    "    \"Distance Metrics\", \"Tree\", \"Jumlah data\",\n",
    "    \"Hasil Index terdekat ENN vs ANN\", \"Waktu komputasi Vs (ENN, ANN)\"\n",
    "])\n",
    "\n",
    "# Tampilkan tabel\n",
    "print(df.to_string(index=False))"
   ]
  },
  {
   "cell_type": "markdown",
   "id": "75503e57",
   "metadata": {},
   "source": [
    "Pertanyaannya: Kenapa code dibagian build index tidak dihitung waktunya? \n",
    "\n",
    "*Jawab*: Bagian build index (yaitu `annoy_index.build(n_trees)`) tidak dihitung waktunya karena proses itu bukan bagian dari pencarian (query time) — tapi bagian dari persiapan / indexing time."
   ]
  }
 ],
 "metadata": {
  "kernelspec": {
   "display_name": "base",
   "language": "python",
   "name": "python3"
  },
  "language_info": {
   "codemirror_mode": {
    "name": "ipython",
    "version": 3
   },
   "file_extension": ".py",
   "mimetype": "text/x-python",
   "name": "python",
   "nbconvert_exporter": "python",
   "pygments_lexer": "ipython3",
   "version": "3.13.5"
  }
 },
 "nbformat": 4,
 "nbformat_minor": 5
}
