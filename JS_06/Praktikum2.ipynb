{
 "cells": [
  {
   "cell_type": "markdown",
   "id": "9e4b4d87",
   "metadata": {},
   "source": [
    "# JS06:"
   ]
  }
 ],
 "metadata": {
  "language_info": {
   "name": "python"
  }
 },
 "nbformat": 4,
 "nbformat_minor": 5
}
