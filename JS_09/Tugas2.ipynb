{
 "cells": [
  {
   "cell_type": "markdown",
   "id": "5ac91557",
   "metadata": {},
   "source": [
    "# Tugas 2"
   ]
  },
  {
   "cell_type": "code",
   "execution_count": 1,
   "id": "d58d2f3b",
   "metadata": {},
   "outputs": [],
   "source": [
    "# Import Library\n",
    "import numpy as np\n",
    "import pandas as pd\n",
    "import matplotlib.pyplot as plt\n",
    "from sklearn.model_selection import train_test_split\n",
    "from sklearn.feature_extraction.text import CountVectorizer, TfidfVectorizer\n",
    "from sklearn.naive_bayes import MultinomialNB\n",
    "from sklearn.metrics import accuracy_score, classification_report, confusion_matrix\n",
    "\n",
    "# Load Data\n",
    "df = pd.read_csv('E:\\kuliah\\smt5\\machine-learning\\spam.csv', encoding='latin-1')\n",
    "\n",
    "# Drop kolom tidak perlu\n",
    "df = df.drop(df.iloc[:, 2:], axis=1)\n",
    "\n",
    "# Ubah nama kolom\n",
    "df.columns = ['Labels', 'SMS']\n",
    "\n",
    "# Encode label (spam = 1, ham = 0)\n",
    "label_map = {'spam': 1, 'ham': 0}\n",
    "df['Labels'] = df['Labels'].map(label_map)\n",
    "\n",
    "# Pisahkan fitur dan label\n",
    "X = df['SMS'].values\n",
    "y = df['Labels'].values\n",
    "\n",
    "# Split data training dan testing\n",
    "X_train, X_test, y_train, y_test = train_test_split(X, y, test_size=0.2, random_state=42)"
   ]
  },
  {
   "cell_type": "markdown",
   "id": "b382df95",
   "metadata": {},
   "source": [
    "1. Buatlah model klasfikasi Multinomial Naive Bayes dengan ketentuan,\n",
    "    - Menggunakan data spam.csv\n",
    "    - Fitur CountVectorizer dengan mengaktifkan stop_words\n",
    "    - Evaluasi hasilnya"
   ]
  },
  {
   "cell_type": "code",
   "execution_count": 2,
   "id": "190fa577",
   "metadata": {},
   "outputs": [
    {
     "name": "stdout",
     "output_type": "stream",
     "text": [
      "Akurasi (CountVectorizer): 0.9838565022421525\n",
      "\n",
      "Confusion Matrix:\n",
      " [[959   6]\n",
      " [ 12 138]]\n",
      "\n",
      "Laporan Klasifikasi:\n",
      "               precision    recall  f1-score   support\n",
      "\n",
      "           0       0.99      0.99      0.99       965\n",
      "           1       0.96      0.92      0.94       150\n",
      "\n",
      "    accuracy                           0.98      1115\n",
      "   macro avg       0.97      0.96      0.96      1115\n",
      "weighted avg       0.98      0.98      0.98      1115\n",
      "\n"
     ]
    }
   ],
   "source": [
    "# Inisialisasi CountVectorizer dengan stop_words\n",
    "cv = CountVectorizer(stop_words='english')\n",
    "\n",
    "# Fit dan transform data training\n",
    "X_train_cv = cv.fit_transform(X_train)\n",
    "X_test_cv = cv.transform(X_test)\n",
    "\n",
    "# Inisialisasi model MultinomialNB\n",
    "mnb_cv = MultinomialNB()\n",
    "mnb_cv.fit(X_train_cv, y_train)\n",
    "\n",
    "# Prediksi\n",
    "y_pred_cv = mnb_cv.predict(X_test_cv)\n",
    "\n",
    "# Evaluasi\n",
    "acc_cv = accuracy_score(y_test, y_pred_cv)\n",
    "print(f\"Akurasi (CountVectorizer): {acc_cv}\")\n",
    "print(\"\\nConfusion Matrix:\\n\", confusion_matrix(y_test, y_pred_cv))\n",
    "print(\"\\nLaporan Klasifikasi:\\n\", classification_report(y_test, y_pred_cv))"
   ]
  },
  {
   "cell_type": "markdown",
   "id": "57c20808",
   "metadata": {},
   "source": [
    "2. Buatlah model klasfikasi Multinomial Naive Bayes dengan ketentuan,\n",
    "    - Menggunakan data spam.csv\n",
    "    - Fitur TF-IDF dengan mengaktifkan stop_words\n",
    "    - Evaluasi hasilnya dan bandingkan dengan hasil pada Tugas no 2.\n",
    "    - Berikan kesimpulan fitur mana yang terbaik pada kasus data spam.csv"
   ]
  },
  {
   "cell_type": "code",
   "execution_count": 3,
   "id": "c91ad781",
   "metadata": {},
   "outputs": [
    {
     "name": "stdout",
     "output_type": "stream",
     "text": [
      "Akurasi (TF-IDF): 0.9668161434977578\n",
      "\n",
      "Confusion Matrix:\n",
      " [[965   0]\n",
      " [ 37 113]]\n",
      "\n",
      "Laporan Klasifikasi:\n",
      "               precision    recall  f1-score   support\n",
      "\n",
      "           0       0.96      1.00      0.98       965\n",
      "           1       1.00      0.75      0.86       150\n",
      "\n",
      "    accuracy                           0.97      1115\n",
      "   macro avg       0.98      0.88      0.92      1115\n",
      "weighted avg       0.97      0.97      0.96      1115\n",
      "\n"
     ]
    }
   ],
   "source": [
    "# Inisialisasi TF-IDF Vectorizer dengan stop_words\n",
    "tfidf = TfidfVectorizer(stop_words='english')\n",
    "\n",
    "# Fit dan transform data training\n",
    "X_train_tfidf = tfidf.fit_transform(X_train)\n",
    "X_test_tfidf = tfidf.transform(X_test)\n",
    "\n",
    "# Inisialisasi model MultinomialNB\n",
    "mnb_tfidf = MultinomialNB()\n",
    "mnb_tfidf.fit(X_train_tfidf, y_train)\n",
    "\n",
    "# Prediksi\n",
    "y_pred_tfidf = mnb_tfidf.predict(X_test_tfidf)\n",
    "\n",
    "# Evaluasi\n",
    "acc_tfidf = accuracy_score(y_test, y_pred_tfidf)\n",
    "print(f\"Akurasi (TF-IDF): {acc_tfidf}\")\n",
    "print(\"\\nConfusion Matrix:\\n\", confusion_matrix(y_test, y_pred_tfidf))\n",
    "print(\"\\nLaporan Klasifikasi:\\n\", classification_report(y_test, y_pred_tfidf))"
   ]
  },
  {
   "cell_type": "markdown",
   "id": "b939c32f",
   "metadata": {},
   "source": [
    "### Perbandingan Akurasi"
   ]
  },
  {
   "cell_type": "code",
   "execution_count": 4,
   "id": "68115dd9",
   "metadata": {},
   "outputs": [
    {
     "name": "stdout",
     "output_type": "stream",
     "text": [
      "\n",
      "===== Perbandingan Akurasi =====\n",
      "Akurasi CountVectorizer : 0.9839\n",
      "Akurasi TF-IDF          : 0.9668\n"
     ]
    },
    {
     "data": {
      "image/png": "[encoded data removed]",
      "text/plain": [
       "<Figure size 640x480 with 1 Axes>"
      ]
     },
     "metadata": {},
     "output_type": "display_data"
    }
   ],
   "source": [
    "print(\"\\n===== Perbandingan Akurasi =====\")\n",
    "print(f\"Akurasi CountVectorizer : {acc_cv:.4f}\")\n",
    "print(f\"Akurasi TF-IDF          : {acc_tfidf:.4f}\")\n",
    "\n",
    "# Visualisasi Perbandingan\n",
    "plt.bar(['CountVectorizer', 'TF-IDF'], [acc_cv, acc_tfidf], color=['skyblue', 'lightgreen'])\n",
    "plt.title('Perbandingan Akurasi Model Naive Bayes')\n",
    "plt.ylabel('Akurasi')\n",
    "plt.ylim(0.9, 1.0)\n",
    "plt.show()"
   ]
  },
  {
   "cell_type": "markdown",
   "id": "967165b8",
   "metadata": {},
   "source": [
    "CountVectorizer memberikan hasil akurasi yang lebih baik pada dataset spam.csv"
   ]
  }
 ],
 "metadata": {
  "kernelspec": {
   "display_name": "base",
   "language": "python",
   "name": "python3"
  },
  "language_info": {
   "codemirror_mode": {
    "name": "ipython",
    "version": 3
   },
   "file_extension": ".py",
   "mimetype": "text/x-python",
   "name": "python",
   "nbconvert_exporter": "python",
   "pygments_lexer": "ipython3",
   "version": "3.13.5"
  }
 },
 "nbformat": 4,
 "nbformat_minor": 5
}
